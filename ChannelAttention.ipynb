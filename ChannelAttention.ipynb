{
  "nbformat": 4,
  "nbformat_minor": 0,
  "metadata": {
    "colab": {
      "provenance": [],
      "collapsed_sections": []
    },
    "kernelspec": {
      "name": "python3",
      "display_name": "Python 3"
    },
    "language_info": {
      "name": "python"
    }
  },
  "cells": [
    {
      "cell_type": "code",
      "source": [
        "from keras.models import Model, load_model\n",
        "from keras.layers import Input\n",
        "from keras.layers.core import Dropout, Lambda\n",
        "from keras.layers.convolutional import Conv1D, Conv2D, Conv2DTranspose\n",
        "from keras.layers.pooling import MaxPooling2D\n",
        "from keras.layers.merge import concatenate\n",
        "from keras.callbacks import EarlyStopping, ModelCheckpoint\n",
        "from keras.layers import GlobalAveragePooling2D, Multiply, Dense\n",
        "from keras import backend as K\n",
        "\n",
        "import tensorflow as tf\n",
        "import cv2"
      ],
      "metadata": {
        "id": "BEOEFd7y1TN3"
      },
      "execution_count": 1,
      "outputs": []
    },
    {
      "cell_type": "code",
      "source": [
        "import math\n",
        "from keras.layers import *\n",
        "from keras.layers import Activation\n",
        "from keras.layers import GlobalAveragePooling2D\n",
        "import keras.backend as K\n",
        "import tensorflow as tf\n",
        "def eca_layer(inputs_tensor=None,num=None,gamma=2,b=1,**kwargs):\n",
        "\n",
        "    channels = K.int_shape(inputs_tensor)[-1]\n",
        "    t = int(abs((math.log(channels,2)+b)/gamma))\n",
        "    k = t if t%2 else t+1\n",
        "    x_global_avg_pool = GlobalAveragePooling2D()(inputs_tensor)\n",
        "    x = Reshape((channels,1))(x_global_avg_pool)\n",
        "    x = Conv1D(1,kernel_size=k,padding=\"same\",name=\"eca_conv1_\" + str(num))(x)\n",
        "    x = Activation('sigmoid', name='eca_conv1_relu_' + str(num))(x)  #shape=[batch,chnnels,1]\n",
        "    x = Reshape((1, 1, channels))(x)\n",
        "    output = multiply([inputs_tensor,x])\n",
        "    return output"
      ],
      "metadata": {
        "id": "Irm5B4YPhZxS"
      },
      "execution_count": 2,
      "outputs": []
    },
    {
      "cell_type": "code",
      "source": [
        "vgg16_model= vgg16 = tf.keras.applications.VGG16(include_top=False, weights=\"imagenet\")\n",
        "vgg16_model.summary()"
      ],
      "metadata": {
        "colab": {
          "base_uri": "https://localhost:8080/"
        },
        "id": "_aNJGuH83ymf",
        "outputId": "737192ba-ee11-49ac-f3ce-f837aaaade45"
      },
      "execution_count": 3,
      "outputs": [
        {
          "output_type": "stream",
          "name": "stdout",
          "text": [
            "Downloading data from https://storage.googleapis.com/tensorflow/keras-applications/vgg16/vgg16_weights_tf_dim_ordering_tf_kernels_notop.h5\n",
            "58892288/58889256 [==============================] - 1s 0us/step\n",
            "58900480/58889256 [==============================] - 1s 0us/step\n",
            "Model: \"vgg16\"\n",
            "_________________________________________________________________\n",
            " Layer (type)                Output Shape              Param #   \n",
            "=================================================================\n",
            " input_1 (InputLayer)        [(None, None, None, 3)]   0         \n",
            "                                                                 \n",
            " block1_conv1 (Conv2D)       (None, None, None, 64)    1792      \n",
            "                                                                 \n",
            " block1_conv2 (Conv2D)       (None, None, None, 64)    36928     \n",
            "                                                                 \n",
            " block1_pool (MaxPooling2D)  (None, None, None, 64)    0         \n",
            "                                                                 \n",
            " block2_conv1 (Conv2D)       (None, None, None, 128)   73856     \n",
            "                                                                 \n",
            " block2_conv2 (Conv2D)       (None, None, None, 128)   147584    \n",
            "                                                                 \n",
            " block2_pool (MaxPooling2D)  (None, None, None, 128)   0         \n",
            "                                                                 \n",
            " block3_conv1 (Conv2D)       (None, None, None, 256)   295168    \n",
            "                                                                 \n",
            " block3_conv2 (Conv2D)       (None, None, None, 256)   590080    \n",
            "                                                                 \n",
            " block3_conv3 (Conv2D)       (None, None, None, 256)   590080    \n",
            "                                                                 \n",
            " block3_pool (MaxPooling2D)  (None, None, None, 256)   0         \n",
            "                                                                 \n",
            " block4_conv1 (Conv2D)       (None, None, None, 512)   1180160   \n",
            "                                                                 \n",
            " block4_conv2 (Conv2D)       (None, None, None, 512)   2359808   \n",
            "                                                                 \n",
            " block4_conv3 (Conv2D)       (None, None, None, 512)   2359808   \n",
            "                                                                 \n",
            " block4_pool (MaxPooling2D)  (None, None, None, 512)   0         \n",
            "                                                                 \n",
            " block5_conv1 (Conv2D)       (None, None, None, 512)   2359808   \n",
            "                                                                 \n",
            " block5_conv2 (Conv2D)       (None, None, None, 512)   2359808   \n",
            "                                                                 \n",
            " block5_conv3 (Conv2D)       (None, None, None, 512)   2359808   \n",
            "                                                                 \n",
            " block5_pool (MaxPooling2D)  (None, None, None, 512)   0         \n",
            "                                                                 \n",
            "=================================================================\n",
            "Total params: 14,714,688\n",
            "Trainable params: 14,714,688\n",
            "Non-trainable params: 0\n",
            "_________________________________________________________________\n"
          ]
        }
      ]
    },
    {
      "cell_type": "code",
      "source": [
        "inputs       = vgg16_model.get_layer(index=0).output\n",
        "\n",
        "block1_conv1 = vgg16_model.get_layer(name='block1_conv1') (inputs)\n",
        "eca_out      = eca_layer(block1_conv1)\n",
        "block1_conv2 = vgg16_model.get_layer(name='block1_conv2') (eca_out)\n",
        "\n",
        "outputs = Dense(units=1, activation='sigmoid') (block1_conv2)\n",
        "\n",
        "custom_model = Model(inputs=[inputs], outputs=[outputs])\n",
        "\n",
        "custom_model.summary()"
      ],
      "metadata": {
        "colab": {
          "base_uri": "https://localhost:8080/"
        },
        "id": "ggnK9HrW1W8r",
        "outputId": "6933c48f-1e2b-4068-8dbc-93d2f2e9f3c9"
      },
      "execution_count": 5,
      "outputs": [
        {
          "output_type": "stream",
          "name": "stdout",
          "text": [
            "Model: \"model_1\"\n",
            "__________________________________________________________________________________________________\n",
            " Layer (type)                   Output Shape         Param #     Connected to                     \n",
            "==================================================================================================\n",
            " input_1 (InputLayer)           [(None, None, None,  0           []                               \n",
            "                                 3)]                                                              \n",
            "                                                                                                  \n",
            " block1_conv1 (Conv2D)          (None, None, None,   1792        ['input_1[0][0]']                \n",
            "                                64)                                                               \n",
            "                                                                                                  \n",
            " global_average_pooling2d_1 (Gl  (None, 64)          0           ['block1_conv1[2][0]']           \n",
            " obalAveragePooling2D)                                                                            \n",
            "                                                                                                  \n",
            " reshape_2 (Reshape)            (None, 64, 1)        0           ['global_average_pooling2d_1[0][0\n",
            "                                                                 ]']                              \n",
            "                                                                                                  \n",
            " eca_conv1_None (Conv1D)        (None, 64, 1)        4           ['reshape_2[0][0]']              \n",
            "                                                                                                  \n",
            " eca_conv1_relu_None (Activatio  (None, 64, 1)       0           ['eca_conv1_None[0][0]']         \n",
            " n)                                                                                               \n",
            "                                                                                                  \n",
            " reshape_3 (Reshape)            (None, 1, 1, 64)     0           ['eca_conv1_relu_None[0][0]']    \n",
            "                                                                                                  \n",
            " multiply_1 (Multiply)          (None, None, None,   0           ['block1_conv1[2][0]',           \n",
            "                                64)                               'reshape_3[0][0]']              \n",
            "                                                                                                  \n",
            " block1_conv2 (Conv2D)          (None, None, None,   36928       ['multiply_1[0][0]']             \n",
            "                                64)                                                               \n",
            "                                                                                                  \n",
            " dense_1 (Dense)                (None, None, None,   65          ['block1_conv2[2][0]']           \n",
            "                                1)                                                                \n",
            "                                                                                                  \n",
            "==================================================================================================\n",
            "Total params: 38,789\n",
            "Trainable params: 38,789\n",
            "Non-trainable params: 0\n",
            "__________________________________________________________________________________________________\n"
          ]
        }
      ]
    }
  ]
}