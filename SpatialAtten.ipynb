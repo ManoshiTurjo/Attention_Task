{
  "nbformat": 4,
  "nbformat_minor": 0,
  "metadata": {
    "colab": {
      "provenance": []
    },
    "kernelspec": {
      "name": "python3",
      "display_name": "Python 3"
    },
    "language_info": {
      "name": "python"
    }
  },
  "cells": [
    {
      "cell_type": "code",
      "execution_count": null,
      "metadata": {
        "id": "QZht5akThSIj"
      },
      "outputs": [],
      "source": [
        "from keras.models import Model, load_model\n",
        "from keras.layers import Input\n",
        "from keras.layers.core import Dropout, Lambda\n",
        "from keras.layers.convolutional import Conv1D, Conv2D, Conv2DTranspose\n",
        "from keras.layers.pooling import MaxPooling2D\n",
        "from keras.layers.merge import concatenate\n",
        "from keras.callbacks import EarlyStopping, ModelCheckpoint\n",
        "from keras.layers import GlobalAveragePooling2D, Multiply, Dense\n",
        "from keras import backend as K\n",
        "\n",
        "import tensorflow as tf\n",
        "import cv2"
      ]
    },
    {
      "cell_type": "code",
      "source": [
        "import tensorflow as tf\n",
        "import tensorflow.keras.layers as K\n",
        "import tensorflow.keras.models as KM\n",
        "from keras.layers import Concatenate\n",
        "\n",
        "def sa_block(inputs):\n",
        "    kernel_size = 7\n",
        "    avg_pool = tf.reduce_mean(inputs, axis=-1, keepdims=True)\n",
        "    max_pool = tf.reduce_max(inputs, axis=-1, keepdims=True)\n",
        "    x = Concatenate()([avg_pool, max_pool])\n",
        "    x = Conv2D(1, kernel_size, padding='same', activation='sigmoid', kernel_initializer='he_normal', use_bias=False)(x)\n",
        "    outputs = Multiply()([inputs, x])\n",
        "    return outputs"
      ],
      "metadata": {
        "id": "mB12hPYeJ-pa"
      },
      "execution_count": null,
      "outputs": []
    },
    {
      "cell_type": "code",
      "source": [
        "vgg16_model= vgg16 = tf.keras.applications.VGG16(include_top=False, weights=\"imagenet\")\n",
        "vgg16_model.summary()"
      ],
      "metadata": {
        "id": "tpWN3nkEiIcn"
      },
      "execution_count": null,
      "outputs": []
    },
    {
      "cell_type": "code",
      "source": [
        "inputs       = vgg16_model.get_layer(index=0).output\n",
        "block1_conv1 = vgg16_model.get_layer(name='block1_conv1') (inputs)\n",
        "eca_out      = sa_block(block1_conv1)\n",
        "block1_conv2 = vgg16_model.get_layer(name='block1_conv2') (eca_out)\n",
        "outputs = Dense(units=1, activation='sigmoid') (block1_conv2)\n",
        "custom_model = Model(inputs=[inputs], outputs = [outputs])\n",
        "custom_model.summary()"
      ],
      "metadata": {
        "colab": {
          "base_uri": "https://localhost:8080/"
        },
        "id": "mdMLGREAJ-mu",
        "outputId": "ce852637-a8a8-4885-ae0c-26875cee268d"
      },
      "execution_count": null,
      "outputs": [
        {
          "output_type": "stream",
          "name": "stdout",
          "text": [
            "Model: \"model\"\n",
            "__________________________________________________________________________________________________\n",
            " Layer (type)                   Output Shape         Param #     Connected to                     \n",
            "==================================================================================================\n",
            " input_1 (InputLayer)           [(None, None, None,  0           []                               \n",
            "                                 3)]                                                              \n",
            "                                                                                                  \n",
            " block1_conv1 (Conv2D)          (None, None, None,   1792        ['input_1[0][0]']                \n",
            "                                64)                                                               \n",
            "                                                                                                  \n",
            " tf.math.reduce_mean_1 (TFOpLam  (None, None, None,   0          ['block1_conv1[2][0]']           \n",
            " bda)                           1)                                                                \n",
            "                                                                                                  \n",
            " tf.math.reduce_max_1 (TFOpLamb  (None, None, None,   0          ['block1_conv1[2][0]']           \n",
            " da)                            1)                                                                \n",
            "                                                                                                  \n",
            " concatenate (Concatenate)      (None, None, None,   0           ['tf.math.reduce_mean_1[0][0]',  \n",
            "                                2)                                'tf.math.reduce_max_1[0][0]']   \n",
            "                                                                                                  \n",
            " conv2d (Conv2D)                (None, None, None,   98          ['concatenate[0][0]']            \n",
            "                                1)                                                                \n",
            "                                                                                                  \n",
            " multiply (Multiply)            (None, None, None,   0           ['block1_conv1[2][0]',           \n",
            "                                64)                               'conv2d[0][0]']                 \n",
            "                                                                                                  \n",
            " block1_conv2 (Conv2D)          (None, None, None,   36928       ['multiply[0][0]']               \n",
            "                                64)                                                               \n",
            "                                                                                                  \n",
            " dense (Dense)                  (None, None, None,   65          ['block1_conv2[1][0]']           \n",
            "                                1)                                                                \n",
            "                                                                                                  \n",
            "==================================================================================================\n",
            "Total params: 38,883\n",
            "Trainable params: 38,883\n",
            "Non-trainable params: 0\n",
            "__________________________________________________________________________________________________\n"
          ]
        }
      ]
    }
  ]
}